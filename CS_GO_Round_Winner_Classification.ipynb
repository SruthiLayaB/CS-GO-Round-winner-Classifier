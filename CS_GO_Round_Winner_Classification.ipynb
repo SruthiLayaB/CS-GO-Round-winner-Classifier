{
  "cells": [
    {
      "cell_type": "markdown",
      "metadata": {
        "id": "LnNTaXuiaoOF"
      },
      "source": [
        "# ***CS:GO Round Winner Classification***\n",
        "\n",
        "---\n",
        "\n",
        "To develop a classification which can predict who wins individual snapshots of rounds.\n"
      ]
    },
    {
      "cell_type": "markdown",
      "metadata": {
        "id": "LTmxkIoBbZFL"
      },
      "source": [
        "#**Context**\n",
        "\n",
        "\n",
        "*   CS:GO is a tactical shooter, where 2 teams (CT and Terrorist) play for best of 30 rounds.\n",
        "*   There are 5 players\n",
        "on each team (10 in total) and the first team to reach 16 rounds wins the game.\n",
        "* At the start, one team plays as CT and the other as Terrorist. After 15 rounds\n",
        "played, the teams swap sides.\n",
        "* You win a round as a Terrorist by either planting the bomb and making sure it\n",
        "explodes, or by eliminating the other team.\n",
        "*  You win a round as CT by either\n",
        "eliminating the other team, or by disarming the bomb, should it have been\n",
        "planted.\n",
        "\n"
      ]
    },
    {
      "cell_type": "markdown",
      "metadata": {
        "id": "MYe8ELkAhWmf"
      },
      "source": [
        "#**Importing libraries and reading data**"
      ]
    },
    {
      "cell_type": "code",
      "execution_count": null,
      "metadata": {
        "id": "ZtF3EJaRhXEK"
      },
      "outputs": [],
      "source": [
        "import pandas as pd\n",
        "import numpy as np"
      ]
    },
    {
      "cell_type": "markdown",
      "metadata": {
        "id": "91MhQWZtjfDy"
      },
      "source": [
        "Reading data:"
      ]
    },
    {
      "cell_type": "code",
      "execution_count": null,
      "metadata": {
        "id": "RbefR3zej8aM"
      },
      "outputs": [],
      "source": [
        "data = pd.read_csv('/content/csgo_round_snapshots.csv.zip')"
      ]
    },
    {
      "cell_type": "code",
      "execution_count": null,
      "metadata": {
        "id": "L2NROobakE4_"
      },
      "outputs": [],
      "source": [
        "data"
      ]
    },
    {
      "cell_type": "markdown",
      "metadata": {
        "id": "M0RB08e7dUIc"
      },
      "source": [
        "#**Data Exploration**"
      ]
    },
    {
      "cell_type": "code",
      "execution_count": null,
      "metadata": {
        "id": "PlsZ3t20d10r"
      },
      "outputs": [],
      "source": [
        "#checking null values\n",
        "data.isnull().any()"
      ]
    },
    {
      "cell_type": "code",
      "execution_count": null,
      "metadata": {
        "id": "HDha30qye0OX"
      },
      "outputs": [],
      "source": [
        "data.isnull().sum().sum()"
      ]
    },
    {
      "cell_type": "markdown",
      "metadata": {
        "id": "LR_Cjilqkz0o"
      },
      "source": [
        "adding t_win col\n"
      ]
    },
    {
      "cell_type": "code",
      "execution_count": null,
      "metadata": {
        "id": "pz1_z9N5kS87"
      },
      "outputs": [],
      "source": [
        "data['t_win'] = data.round_winner.astype(\"category\").cat.codes"
      ]
    },
    {
      "cell_type": "code",
      "execution_count": null,
      "metadata": {
        "id": "uxo95nBZgloD"
      },
      "outputs": [],
      "source": [
        "data.describe()"
      ]
    },
    {
      "cell_type": "code",
      "execution_count": null,
      "metadata": {
        "id": "v2rA4EsOhM_Z"
      },
      "outputs": [],
      "source": [
        "data.shape"
      ]
    },
    {
      "cell_type": "markdown",
      "metadata": {
        "id": "8xz-GCjpnGFQ"
      },
      "source": [
        "#**Data Preprocessing**\n"
      ]
    },
    {
      "cell_type": "code",
      "execution_count": null,
      "metadata": {
        "id": "B-r6QqRhkohg"
      },
      "outputs": [],
      "source": [
        "import matplotlib.pyplot as plt\n",
        "import seaborn as sns"
      ]
    },
    {
      "cell_type": "markdown",
      "metadata": {
        "id": "-dcfSPmjj4QO"
      },
      "source": [
        "Finding correlations and selecting top 25 columns"
      ]
    },
    {
      "cell_type": "code",
      "execution_count": null,
      "metadata": {
        "id": "Dmpk-GSqlFhU"
      },
      "outputs": [],
      "source": [
        "correlations = data.corr()\n",
        "print(correlations['t_win'].apply(abs).sort_values(ascending = False).iloc[:25])"
      ]
    },
    {
      "cell_type": "code",
      "execution_count": null,
      "metadata": {
        "id": "_XmbjU_blu6i"
      },
      "outputs": [],
      "source": [
        "selected_columns = []\n",
        "for col in data:\n",
        "  try:\n",
        "    if abs(correlations[col]['t_win']) > 0.15:\n",
        "      selected_columns.append(col)\n",
        "  except KeyError:\n",
        "      pass\n",
        "data_selected = data[selected_columns]\n",
        "print(data_selected)"
      ]
    },
    {
      "cell_type": "code",
      "execution_count": null,
      "metadata": {
        "id": "VVvAVJFInrJj"
      },
      "outputs": [],
      "source": [
        "data_selected"
      ]
    },
    {
      "cell_type": "markdown",
      "metadata": {
        "id": "ORmREuYEpKsP"
      },
      "source": [
        "\n",
        "#**Data Visualization**"
      ]
    },
    {
      "cell_type": "markdown",
      "metadata": {
        "id": "MabYIsNvh8Qe"
      },
      "source": [
        "Plotting HeatMap"
      ]
    },
    {
      "cell_type": "code",
      "execution_count": null,
      "metadata": {
        "id": "3iyVC0g7pZLH"
      },
      "outputs": [],
      "source": [
        "plt.figure(figsize = (20,20))\n",
        "sns.heatmap(data_selected.corr().sort_values(by = 't_win'), annot = True, cmap = \"YlGnBu\")"
      ]
    },
    {
      "cell_type": "markdown",
      "metadata": {
        "id": "0r45o864iIu5"
      },
      "source": [
        "Plotting a Histogram"
      ]
    },
    {
      "cell_type": "code",
      "execution_count": null,
      "metadata": {
        "id": "l8d_rL8kqDao"
      },
      "outputs": [],
      "source": [
        "data_selected.hist(figsize = (16,16))"
      ]
    },
    {
      "cell_type": "markdown",
      "metadata": {
        "id": "zv5JvHcLiToh"
      },
      "source": [
        "Splitting data"
      ]
    },
    {
      "cell_type": "code",
      "execution_count": null,
      "metadata": {
        "id": "_15he8nNq9zI"
      },
      "outputs": [],
      "source": [
        "from sklearn.model_selection import train_test_split"
      ]
    },
    {
      "cell_type": "code",
      "execution_count": null,
      "metadata": {
        "id": "z2eHOMAorUCr"
      },
      "outputs": [],
      "source": [
        "X, y = data_selected.drop(['t_win'], axis = 1), data_selected['t_win']\n",
        "X_train, X_test, y_train, y_test = train_test_split(X, y, test_size = 0.3)"
      ]
    },
    {
      "cell_type": "markdown",
      "metadata": {
        "id": "9oWlkfWdrzoU"
      },
      "source": [
        "#**1. KNN Classification Algorithm**"
      ]
    },
    {
      "cell_type": "code",
      "execution_count": null,
      "metadata": {
        "id": "s-p-ooS2siqz"
      },
      "outputs": [],
      "source": [
        "from sklearn.preprocessing import StandardScaler\n",
        "from sklearn.neighbors import KNeighborsClassifier\n",
        "\n",
        "scaler = StandardScaler()\n",
        "\n",
        "X_train_scaled = scaler.fit_transform(X_train)\n",
        "X_test_scaled = scaler.transform(X_test)\n",
        "\n",
        "knn = KNeighborsClassifier()\n",
        "knn.fit(X_train_scaled, y_train)"
      ]
    },
    {
      "cell_type": "code",
      "execution_count": null,
      "metadata": {
        "id": "4fGWoWCk5Wh-"
      },
      "outputs": [],
      "source": [
        "knn.score(X_train_scaled, y_train)"
      ]
    },
    {
      "cell_type": "code",
      "execution_count": null,
      "metadata": {
        "id": "AsCkEE20tqa0"
      },
      "outputs": [],
      "source": [
        "knn.score(X_test_scaled, y_test)"
      ]
    },
    {
      "cell_type": "markdown",
      "metadata": {
        "id": "qdwxAvwmiej8"
      },
      "source": [
        "**ROC Curve**"
      ]
    },
    {
      "cell_type": "code",
      "execution_count": null,
      "metadata": {
        "id": "LFq6lxN9ZXyj"
      },
      "outputs": [],
      "source": [
        "from sklearn.metrics import RocCurveDisplay"
      ]
    },
    {
      "cell_type": "code",
      "execution_count": null,
      "metadata": {
        "id": "1kKH387qZe7E"
      },
      "outputs": [],
      "source": [
        "RocCurveDisplay.from_estimator(knn, X_test_scaled, y_test)\n",
        "plt.show()"
      ]
    },
    {
      "cell_type": "code",
      "execution_count": null,
      "metadata": {
        "id": "CC8MNj276loX"
      },
      "outputs": [],
      "source": [
        "RocCurveDisplay.from_estimator(knn, X_train_scaled, y_train)\n",
        "plt.show()"
      ]
    },
    {
      "cell_type": "markdown",
      "metadata": {
        "id": "mmYnXRW02QfD"
      },
      "source": [
        "**Evaluation**"
      ]
    },
    {
      "cell_type": "code",
      "execution_count": null,
      "metadata": {
        "id": "NnENubWatzpj"
      },
      "outputs": [],
      "source": [
        "from sklearn.metrics import confusion_matrix, classification_report, ConfusionMatrixDisplay"
      ]
    },
    {
      "cell_type": "code",
      "execution_count": null,
      "metadata": {
        "id": "8E_J0j3x07qL"
      },
      "outputs": [],
      "source": [
        "y_pred = knn.predict(X_test_scaled)"
      ]
    },
    {
      "cell_type": "code",
      "execution_count": null,
      "metadata": {
        "id": "_q6WK4wx1Sp0"
      },
      "outputs": [],
      "source": [
        "y_pred"
      ]
    },
    {
      "cell_type": "code",
      "execution_count": null,
      "metadata": {
        "id": "JByakbby1fzn"
      },
      "outputs": [],
      "source": [
        "print(classification_report(y_test, y_pred))"
      ]
    },
    {
      "cell_type": "markdown",
      "metadata": {
        "id": "kxX5kO4y3Mz8"
      },
      "source": [
        "*Confusion Matrix (test)*\n"
      ]
    },
    {
      "cell_type": "code",
      "execution_count": null,
      "metadata": {
        "id": "EH5roIek1329"
      },
      "outputs": [],
      "source": [
        "print(confusion_matrix(y_test,y_pred))\n",
        "knn_cm = confusion_matrix(y_test,y_pred)\n",
        "display = ConfusionMatrixDisplay(confusion_matrix=knn_cm, display_labels = [False, True])\n",
        "display.plot()\n",
        "plt.show()"
      ]
    },
    {
      "cell_type": "markdown",
      "metadata": {
        "id": "Pro3zanFaG03"
      },
      "source": [
        "#**2. Random Forest Classification Algorithm** "
      ]
    },
    {
      "cell_type": "code",
      "execution_count": null,
      "metadata": {
        "id": "uW632_QQ2Fip"
      },
      "outputs": [],
      "source": [
        "from sklearn.ensemble import RandomForestClassifier"
      ]
    },
    {
      "cell_type": "code",
      "execution_count": null,
      "metadata": {
        "id": "Vc0aA8X4eWP3"
      },
      "outputs": [],
      "source": [
        "Forest = RandomForestClassifier(n_estimators=100, max_depth=10, min_samples_leaf=5, random_state=42)\n",
        "Forest.fit(X_train_scaled, y_train)"
      ]
    },
    {
      "cell_type": "code",
      "execution_count": null,
      "metadata": {
        "id": "-wb7gzIMej1W"
      },
      "outputs": [],
      "source": [
        "Forest.score(X_test_scaled, y_test)"
      ]
    },
    {
      "cell_type": "code",
      "execution_count": null,
      "metadata": {
        "id": "In210oQf7NDO"
      },
      "outputs": [],
      "source": [
        "Forest.score(X_train_scaled, y_train)"
      ]
    },
    {
      "cell_type": "markdown",
      "metadata": {
        "id": "CeUnsoaGiouK"
      },
      "source": [
        "**ROC Curve**"
      ]
    },
    {
      "cell_type": "code",
      "execution_count": null,
      "metadata": {
        "id": "diDAnRXyfaBL"
      },
      "outputs": [],
      "source": [
        "RocCurveDisplay.from_estimator(Forest, X_test_scaled, y_test)\n",
        "plt.show()"
      ]
    },
    {
      "cell_type": "code",
      "execution_count": null,
      "metadata": {
        "id": "CrOVMTJx7qLX"
      },
      "outputs": [],
      "source": [
        "RocCurveDisplay.from_estimator(Forest, X_train_scaled, y_train)\n",
        "plt.show()"
      ]
    },
    {
      "cell_type": "markdown",
      "metadata": {
        "id": "IqTSAkyJcCto"
      },
      "source": [
        "**Evaluation**"
      ]
    },
    {
      "cell_type": "code",
      "execution_count": null,
      "metadata": {
        "id": "b9VaXUgbcDkR"
      },
      "outputs": [],
      "source": [
        "rf_y_pred = Forest.predict(X_test_scaled)"
      ]
    },
    {
      "cell_type": "code",
      "execution_count": null,
      "metadata": {
        "id": "zIaERY56cTws"
      },
      "outputs": [],
      "source": [
        "rf_y_pred"
      ]
    },
    {
      "cell_type": "code",
      "execution_count": null,
      "metadata": {
        "id": "-ez6ut39cZsp"
      },
      "outputs": [],
      "source": [
        "print(classification_report(y_test, rf_y_pred))"
      ]
    },
    {
      "cell_type": "code",
      "execution_count": null,
      "metadata": {
        "id": "oHnHgm3xcg2Z"
      },
      "outputs": [],
      "source": [
        "print(confusion_matrix(y_test,rf_y_pred))"
      ]
    },
    {
      "cell_type": "markdown",
      "metadata": {
        "id": "Euraki1sb7Gm"
      },
      "source": [
        "#**3. Neural Network Classification**"
      ]
    },
    {
      "cell_type": "code",
      "execution_count": null,
      "metadata": {
        "id": "VwvmDI8BetPH"
      },
      "outputs": [],
      "source": [
        "from tensorflow import keras"
      ]
    },
    {
      "cell_type": "code",
      "execution_count": null,
      "metadata": {
        "id": "KAsvLQGjey8s"
      },
      "outputs": [],
      "source": [
        "model = keras.models.Sequential()\n",
        "model.add(keras.layers.Input(shape = (20,)))\n",
        "model.add(keras.layers.Dense(200, activation = \"relu\"))\n",
        "model.add(keras.layers.Dense(100, activation = \"relu\"))\n",
        "model.add(keras.layers.Dense(100, activation = \"relu\"))\n",
        "model.add(keras.layers.Dense(1, activation = \"sigmoid\"))"
      ]
    },
    {
      "cell_type": "code",
      "execution_count": null,
      "metadata": {
        "id": "ZB0F-8xifVoi"
      },
      "outputs": [],
      "source": [
        "model.compile(loss=\"binary_crossentropy\", optimizer=\"adam\", metrics=[\"accuracy\"]) "
      ]
    },
    {
      "cell_type": "code",
      "execution_count": null,
      "metadata": {
        "id": "HNBOGBpbfqpz"
      },
      "outputs": [],
      "source": [
        "early_stopping_cb = keras.callbacks.EarlyStopping(patience = 5)\n",
        "\n",
        "\n",
        "X_train_scaled_train, X_valid, y_train_train, y_valid = train_test_split(X_train_scaled, y_train, test_size=0.15)\n",
        "\n",
        "model.fit(X_train_scaled_train, y_train_train, epochs=30, callbacks=[early_stopping_cb], validation_data=(X_valid, y_valid))"
      ]
    },
    {
      "cell_type": "markdown",
      "metadata": {
        "id": "mTYn7rJFbnot"
      },
      "source": [
        "**Evaluation**"
      ]
    },
    {
      "cell_type": "code",
      "execution_count": null,
      "metadata": {
        "colab": {
          "base_uri": "https://localhost:8080/",
          "height": 171
        },
        "id": "wUBD31BRhN02",
        "outputId": "04e96b6a-ffe4-49f4-a60a-a9fba49f8452"
      },
      "outputs": [
        {
          "ename": "NameError",
          "evalue": "ignored",
          "output_type": "error",
          "traceback": [
            "\u001b[0;31m---------------------------------------------------------------------------\u001b[0m",
            "\u001b[0;31mNameError\u001b[0m                                 Traceback (most recent call last)",
            "\u001b[0;32m<ipython-input-1-bd3f749eb7f1>\u001b[0m in \u001b[0;36m<cell line: 1>\u001b[0;34m()\u001b[0m\n\u001b[0;32m----> 1\u001b[0;31m \u001b[0mmodel\u001b[0m\u001b[0;34m.\u001b[0m\u001b[0mevaluate\u001b[0m\u001b[0;34m(\u001b[0m\u001b[0mX_test_scaled\u001b[0m\u001b[0;34m,\u001b[0m \u001b[0my_test\u001b[0m\u001b[0;34m)\u001b[0m\u001b[0;34m\u001b[0m\u001b[0;34m\u001b[0m\u001b[0m\n\u001b[0m",
            "\u001b[0;31mNameError\u001b[0m: name 'model' is not defined"
          ]
        }
      ],
      "source": [
        "model.evaluate(X_test_scaled, y_test)"
      ]
    },
    {
      "cell_type": "code",
      "execution_count": null,
      "metadata": {
        "id": "A89vYc9nANtl"
      },
      "outputs": [],
      "source": [
        "model.evaluate(X_train_scaled_train, y_train_train)"
      ]
    },
    {
      "cell_type": "code",
      "execution_count": null,
      "metadata": {
        "id": "BJv4j5vqc6u-"
      },
      "outputs": [],
      "source": [
        "nn_y_pred = model.predict(X_test_scaled)"
      ]
    },
    {
      "cell_type": "markdown",
      "metadata": {
        "id": "EfcCWZLbivpU"
      },
      "source": [
        "**ROC Curve**"
      ]
    },
    {
      "cell_type": "code",
      "execution_count": null,
      "metadata": {
        "id": "x1Dv_2UbgDCq"
      },
      "outputs": [],
      "source": [
        "from sklearn.metrics import roc_curve, auc\n",
        "\n",
        "fpr, tpr, thresholds = roc_curve(y_test, nn_y_pred.flatten())\n",
        "roc_auc = auc(fpr, tpr)\n",
        "\n",
        "plt.plot(fpr, tpr)\n",
        "plt.xlabel('False Positive Rate')\n",
        "plt.ylabel('True Positive Rate')\n",
        "plt.title('ROC Curve')\n",
        "plt.show()"
      ]
    },
    {
      "cell_type": "code",
      "execution_count": null,
      "metadata": {
        "id": "x5yBbEMgdLd9"
      },
      "outputs": [],
      "source": [
        "nn_y_pred"
      ]
    },
    {
      "cell_type": "markdown",
      "metadata": {
        "id": "jMOCfrV7mrps"
      },
      "source": [
        "#**Deployment using Gradio**"
      ]
    },
    {
      "cell_type": "code",
      "execution_count": null,
      "metadata": {
        "id": "YPcr--1Aqwow"
      },
      "outputs": [],
      "source": [
        "!pip install gradio"
      ]
    },
    {
      "cell_type": "code",
      "execution_count": null,
      "metadata": {
        "id": "MkDStfapXiYa"
      },
      "outputs": [],
      "source": [
        "import gradio as gr\n",
        "import joblib"
      ]
    },
    {
      "cell_type": "code",
      "execution_count": null,
      "metadata": {
        "colab": {
          "background_save": true,
          "base_uri": "https://localhost:8080/",
          "height": 732
        },
        "id": "TUZ5mHo8WikC",
        "outputId": "889b347e-c124-43af-ab7c-24dcdc4c5df2"
      },
      "outputs": [
        {
          "name": "stderr",
          "output_type": "stream",
          "text": [
            "/usr/local/lib/python3.9/dist-packages/gradio/inputs.py:59: UserWarning: Usage of gradio.inputs is deprecated, and will not be supported in the future, please import your component from gradio.components\n",
            "  warnings.warn(\n",
            "/usr/local/lib/python3.9/dist-packages/gradio/deprecation.py:40: UserWarning: `optional` parameter is deprecated, and it has no effect\n",
            "  warnings.warn(value)\n",
            "/usr/local/lib/python3.9/dist-packages/gradio/outputs.py:22: UserWarning: Usage of gradio.outputs is deprecated, and will not be supported in the future, please import your components from gradio.components\n",
            "  warnings.warn(\n"
          ]
        },
        {
          "name": "stdout",
          "output_type": "stream",
          "text": [
            "Colab notebook detected. This cell will run indefinitely so that you can see errors and logs. To turn off, set debug=False in launch().\n",
            "Running on public URL: https://19fa2673efe23bc738.gradio.live\n",
            "\n",
            "This share link expires in 72 hours. For free permanent hosting and GPU upgrades (NEW!), check out Spaces: https://huggingface.co/spaces\n"
          ]
        },
        {
          "data": {
            "text/html": [
              "<div><iframe src=\"https://19fa2673efe23bc738.gradio.live\" width=\"100%\" height=\"500\" allow=\"autoplay; camera; microphone; clipboard-read; clipboard-write;\" frameborder=\"0\" allowfullscreen></iframe></div>"
            ],
            "text/plain": [
              "<IPython.core.display.HTML object>"
            ]
          },
          "metadata": {},
          "output_type": "display_data"
        },
        {
          "name": "stdout",
          "output_type": "stream",
          "text": [
            "1/1 [==============================] - 0s 40ms/step\n",
            "1/1 [==============================] - 0s 58ms/step\n"
          ]
        }
      ],
      "source": [
        "\n",
        "def csgo_classification(bomb_planted, ct_health , ct_armor , t_armor , ct_helmets , t_helmets , ct_defuse_kits , ct_players_alive , ct_weapon_ak47 , t_weapon_ak47 , ct_weapon_awp ,ct_weapon_m4a4, ct_weapon_sg553 , t_weapon_sg553, ct_weapon_usps , ct_grenade_hegrenade, ct_grenade_flashbang ,t_grenade_flashbang , ct_grenade_smokegrenade , ct_grenade_incendiarygrenade):\n",
        "  my_list = [[bomb_planted, ct_health , ct_armor , t_armor , ct_helmets , t_helmets , ct_defuse_kits , ct_players_alive , ct_weapon_ak47 , t_weapon_ak47 ,ct_weapon_awp , ct_weapon_m4a4 , ct_weapon_sg553 , t_weapon_sg553, ct_weapon_usps , ct_grenade_hegrenade, ct_grenade_flashbang , t_grenade_flashbang,ct_grenade_smokegrenade , ct_grenade_incendiarygrenade]]\n",
        "\n",
        "  y = model.predict(my_list)\n",
        "  if y[0] == 1:\n",
        "    return \"T\"\n",
        "  else:\n",
        "    return \"CT\"\n",
        "inputs = [\n",
        "    gr.inputs.Number(label=\"bomb_planted\"),\n",
        "    gr.inputs.Number(label=\"ct_health\"),\n",
        "    gr.inputs.Number(label=\"ct_armor\"),\n",
        "    gr.inputs.Number(label=\"t_armor\"),\n",
        "    gr.inputs.Number(label=\"ct_helmets\"),\n",
        "    gr.inputs.Number(label=\"t_helmets\"),\n",
        "    gr.inputs.Number(label=\"ct_defuse_kits\"),\n",
        "    gr.inputs.Number(label=\"ct_players_alive\"),\n",
        "    gr.inputs.Number(label=\"ct_weapon_ak47\"),\n",
        "    gr.inputs.Number(label=\"t_weapon_ak47\"),\n",
        "    gr.inputs.Number(label=\"t_weapon_awp\"),\n",
        "    gr.inputs.Number(label=\"ct_weapon_m4a4\"),\n",
        "    gr.inputs.Number(label=\"ct_weapon_sg553\"),\n",
        "    gr.inputs.Number(label=\"t_weapon_sg553\"),\n",
        "    gr.inputs.Number(label=\"ct_weapon_usps\"),\n",
        "    gr.inputs.Number(label=\"ct_grenade_hegrenade\"),\n",
        "    gr.inputs.Number(label=\"ct_grenade_flashbang\"),\n",
        "    gr.inputs.Number(label=\"t_grenade_flashbang\"),\n",
        "    gr.inputs.Number(label=\"ct_grenade_smokegrenade\"),\n",
        "    gr.inputs.Number(label=\"ct_grenade_incendiarygrenade\")]\n",
        "\n",
        "output = gr.outputs.Textbox(label=\"Prediction\")\n",
        "\n",
        "interface = gr.Interface(fn=csgo_classification, inputs=inputs, outputs=output, title=\"CS GO round winner classification\")\n",
        "interface.launch(share=True, debug=True)"
      ]
    }
  ],
  "metadata": {
    "colab": {
      "provenance": []
    },
    "kernelspec": {
      "display_name": "Python 3",
      "name": "python3"
    },
    "language_info": {
      "name": "python"
    }
  },
  "nbformat": 4,
  "nbformat_minor": 0
}